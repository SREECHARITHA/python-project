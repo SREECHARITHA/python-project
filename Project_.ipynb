{
  "nbformat": 4,
  "nbformat_minor": 0,
  "metadata": {
    "colab": {
      "name": "Project .ipynb",
      "provenance": [],
      "collapsed_sections": []
    },
    "kernelspec": {
      "name": "python3",
      "display_name": "Python 3"
    }
  },
  "cells": [
    {
      "cell_type": "code",
      "metadata": {
        "id": "mL7OkEZVlK7T",
        "colab_type": "code",
        "colab": {}
      },
      "source": [
        ""
      ],
      "execution_count": 0,
      "outputs": []
    },
    {
      "cell_type": "markdown",
      "metadata": {
        "id": "waNl9bOjlmRd",
        "colab_type": "text"
      },
      "source": [
        "#### Project Name(Application name-Contact App)\n",
        "* Add a contact detail\n",
        "* Search the contact details\n",
        "* Modify the contact detail\n",
        "* Delete a contact detail\n"
      ]
    },
    {
      "cell_type": "code",
      "metadata": {
        "id": "qRc31ZKylpQl",
        "colab_type": "code",
        "colab": {
          "base_uri": "https://localhost:8080/",
          "height": 72
        },
        "outputId": "86dcab57-1cc3-4b12-de07-e45d5a3abc18"
      },
      "source": [
        "contact={}#Empty dict object is taken\n",
        "#lets create a function to add contact details\n",
        "def addcontact(name,phone):\n",
        "     if name not in contact:\n",
        "         contact[name]=phone\n",
        "         print('contact details added successfully')\n",
        "     else:      \n",
        "         print('name already exists')\n",
        "     return \n",
        "addcontact('charitha',7330785679)    \n",
        "addcontact('hema',2516172819)\n",
        "addcontact('charitha',1312332)\n"
      ],
      "execution_count": 86,
      "outputs": [
        {
          "output_type": "stream",
          "text": [
            "contact details added successfully\n",
            "contact details added successfully\n",
            "name already exists\n"
          ],
          "name": "stdout"
        }
      ]
    },
    {
      "cell_type": "code",
      "metadata": {
        "id": "vQNTAWIRKcXv",
        "colab_type": "code",
        "colab": {
          "base_uri": "https://localhost:8080/",
          "height": 72
        },
        "outputId": "48f57aaa-6647-4f5a-f2d4-31ef172b637f"
      },
      "source": [
        "def searchcontact(name):\n",
        "    if name not in contact:\n",
        "        print(\"contact doesnot exists\")\n",
        "    else:\n",
        "        print(\"contact exists\")\n",
        "        print(name,\":\",contact[name]) \n",
        "    return    \n",
        "searchcontact('charitha')  \n",
        "searchcontact('prathyu')     \n",
        "\n"
      ],
      "execution_count": 71,
      "outputs": [
        {
          "output_type": "stream",
          "text": [
            "contact exists\n",
            "charitha : 7330785679\n",
            "contact doesnot exists\n"
          ],
          "name": "stdout"
        }
      ]
    },
    {
      "cell_type": "code",
      "metadata": {
        "id": "ZeYDuqO6TH3b",
        "colab_type": "code",
        "colab": {
          "base_uri": "https://localhost:8080/",
          "height": 54
        },
        "outputId": "a2a02fc4-4c7f-4325-fa93-763c15e08996"
      },
      "source": [
        "def modifycon(name,phone):\n",
        "    if name not in contact:\n",
        "        print(\"contact doesnot exists\")\n",
        "    else:\n",
        "        contact.update({name:phone})\n",
        "        print(name,\":\",contact[name])\n",
        "        print(\"update successfully\") \n",
        "    return\n",
        "modifycon('hema',5766866868)    \n"
      ],
      "execution_count": 79,
      "outputs": [
        {
          "output_type": "stream",
          "text": [
            "hema : 5766866868\n",
            "update successfully\n"
          ],
          "name": "stdout"
        }
      ]
    },
    {
      "cell_type": "code",
      "metadata": {
        "id": "vJcHjDMGVg4i",
        "colab_type": "code",
        "colab": {
          "base_uri": "https://localhost:8080/",
          "height": 35
        },
        "outputId": "74407a6d-22a2-4731-ea5c-35b65fae8a56"
      },
      "source": [
        "def deletecontact(name):\n",
        "    if name not in contact:\n",
        "        print(name,\" doesnot exists\")\n",
        "    else:\n",
        "        contact.pop(name)\n",
        "        print(\"deleted successfully\")\n",
        "    return\n",
        "deletecontact('hema')            \n"
      ],
      "execution_count": 89,
      "outputs": [
        {
          "output_type": "stream",
          "text": [
            "hema  doesnot exists\n"
          ],
          "name": "stdout"
        }
      ]
    },
    {
      "cell_type": "code",
      "metadata": {
        "id": "cE4BbtonWKrT",
        "colab_type": "code",
        "colab": {
          "base_uri": "https://localhost:8080/",
          "height": 35
        },
        "outputId": "1fb11066-1fe2-4b72-c415-d89f51fb3574"
      },
      "source": [
        "contact"
      ],
      "execution_count": 83,
      "outputs": [
        {
          "output_type": "execute_result",
          "data": {
            "text/plain": [
              "{'charitha': 7330785679}"
            ]
          },
          "metadata": {
            "tags": []
          },
          "execution_count": 83
        }
      ]
    },
    {
      "cell_type": "code",
      "metadata": {
        "id": "Nmto_mB8X44A",
        "colab_type": "code",
        "colab": {}
      },
      "source": [
        ""
      ],
      "execution_count": 0,
      "outputs": []
    }
  ]
}